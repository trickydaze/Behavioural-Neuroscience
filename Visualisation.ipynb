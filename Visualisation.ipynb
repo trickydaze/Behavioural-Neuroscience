{
 "cells": [
  {
   "cell_type": "code",
   "execution_count": 4,
   "metadata": {
    "collapsed": true
   },
   "outputs": [],
   "source": [
    "import numpy as np\n",
    "import matplotlib.pyplot as plt\n",
    "import pandas as pd\n",
    "import seaborn as sns\n",
    "import scipy\n",
    "\n",
    "df=pd.read_csv('all_subjects.csv')"
   ]
  },
  {
   "cell_type": "code",
   "execution_count": 5,
   "outputs": [
    {
     "name": "stdout",
     "output_type": "stream",
     "text": [
      "125.63343653250774\n",
      "174.22045454545454\n"
     ]
    }
   ],
   "source": [
    "low_delay=df[(df.delay < 150) & (df.delay > 0) & (df.result ==1)]\n",
    "medium_delay=df[(df.delay < 200) & (df.delay > 150) & (df.result ==1)]\n",
    "high_delay=df[(df.delay < 250) & (df.delay > 200) & (df.result ==1)]\n",
    "max_delay=df[(df.delay < 300) & (df.delay > 250) & (df.result ==1)]\n",
    "\n",
    "print(np.mean(low_delay.delay))\n",
    "print(np.mean(medium_delay.delay))"
   ],
   "metadata": {
    "collapsed": false,
    "pycharm": {
     "name": "#%%\n"
    }
   }
  },
  {
   "cell_type": "code",
   "execution_count": 6,
   "outputs": [
    {
     "data": {
      "text/plain": "<Figure size 432x288 with 1 Axes>",
      "image/png": "[encoded data removed]"
     },
     "metadata": {
      "needs_background": "light"
     },
     "output_type": "display_data"
    }
   ],
   "source": [
    "per=np.percentile(low_delay.delay,50)\n",
    "\n",
    "#sns.displot(data=df, x=df[(df.delay < 150) & (df.delay > 0)].delay,bins=[100,110,120,130,140,150], kde=True)\n",
    "#sns.histplot(data=df, x=df[(df.delay < 150) & (df.delay > 0)].delay,bins=[100,110,120,130,140,150],binwidth=8, stat='count',kde=True, hue=per,color='blu')\n",
    "plt.hist(low_delay.delay, alpha=0.5, label='x')\n",
    "plt.hist(low_delay.latency, alpha=0.5, label='y')\n",
    "plt.legend(loc='upper right')\n",
    "plt.show()\n"
   ],
   "metadata": {
    "collapsed": false,
    "pycharm": {
     "name": "#%%\n"
    }
   }
  },
  {
   "cell_type": "code",
   "execution_count": 150,
   "outputs": [
    {
     "data": {
      "text/plain": "<Figure size 432x288 with 1 Axes>",
      "image/png": "[encoded data removed]"
     },
     "metadata": {},
     "output_type": "display_data"
    }
   ],
   "source": [
    "import seaborn as sns\n",
    "\n",
    "sns.histplot(low_delay, x=low_delay.delay,y=low_delay.latency,bins=20 ,stat='density',hue='condition',element='poly',facecolor = '#2ab0ff', linewidth=0.5)\n",
    "\n",
    "plt.hlines(y=np.percentile(low_delay.latency,2.5),xmin=100,xmax=150,color='g',linestyles='dashdot',label='2.5 Percent')\n",
    "plt.hlines(low_delay.latency.median(), color='b', linestyle='-', linewidth=1,animated=True,label='Mean of Low Delay',xmin=100,xmax=150)\n",
    "plt.hlines(y=np.percentile(low_delay.latency,97.2),xmin=100,xmax=150,color='g')\n",
    "\n",
    "sns.histplot(medium_delay, x=medium_delay.delay,y=medium_delay.latency, color='purple',hue='condition')\n",
    "plt.hlines(medium_delay.latency.median(), color='b', linestyle='-', linewidth=1,animated=True,label='Mean of Low Delay',xmin=150,xmax=200)\n",
    "plt.legend(['2.5','Median','97.2'])\n",
    "sns.axes_style()\n",
    "#sns.set_theme()\n",
    "#sns.set_style(\"darkgrid\", {\"axes.facecolor\": \".8\"})\n",
    "plt.show()"
   ],
   "metadata": {
    "collapsed": false,
    "pycharm": {
     "name": "#%%\n"
    }
   }
  },
  {
   "cell_type": "code",
   "execution_count": 102,
   "outputs": [
    {
     "name": "stdout",
     "output_type": "stream",
     "text": [
      "<class 'pandas.core.frame.DataFrame'>\n",
      "Int64Index: 1615 entries, 12 to 7037\n",
      "Data columns (total 7 columns):\n",
      " #   Column        Non-Null Count  Dtype \n",
      "---  ------        --------------  ----- \n",
      " 0   Trial_number  1615 non-null   int64 \n",
      " 1   bc_release    1615 non-null   int64 \n",
      " 2   condition     1615 non-null   int64 \n",
      " 3   delay         1615 non-null   int64 \n",
      " 4   latency       1615 non-null   int64 \n",
      " 5   result        1615 non-null   int64 \n",
      " 6   filename      1615 non-null   object\n",
      "dtypes: int64(6), object(1)\n",
      "memory usage: 165.5+ KB\n"
     ]
    },
    {
     "data": {
      "text/plain": "101.0"
     },
     "execution_count": 102,
     "metadata": {},
     "output_type": "execute_result"
    }
   ],
   "source": [
    "low_delay.info()\n",
    "\n",
    "np.percentile(low_delay.delay, 2.5)"
   ],
   "metadata": {
    "collapsed": false,
    "pycharm": {
     "name": "#%%\n"
    }
   }
  }
 ],
 "metadata": {
  "kernelspec": {
   "display_name": "Python 3",
   "language": "python",
   "name": "python3"
  },
  "language_info": {
   "codemirror_mode": {
    "name": "ipython",
    "version": 2
   },
   "file_extension": ".py",
   "mimetype": "text/x-python",
   "name": "python",
   "nbconvert_exporter": "python",
   "pygments_lexer": "ipython2",
   "version": "2.7.6"
  }
 },
 "nbformat": 4,
 "nbformat_minor": 0
}