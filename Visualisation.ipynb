{
 "cells": [
  {
   "cell_type": "code",
   "execution_count": 36,
   "metadata": {
    "collapsed": true
   },
   "outputs": [],
   "source": [
    "import numpy as np\n",
    "import matplotlib.pyplot as plt\n",
    "import pandas as pd\n",
    "import seaborn as sns\n",
    "import scipy\n",
    "\n",
    "df=pd.read_csv('all_subjects.csv')"
   ]
  },
  {
   "cell_type": "code",
   "execution_count": 67,
   "outputs": [
    {
     "name": "stdout",
     "output_type": "stream",
     "text": [
      "125.63343653250774\n",
      "174.22045454545454\n"
     ]
    }
   ],
   "source": [
    "low_delay=df[(df.delay < 150) & (df.delay > 0) & (df.result ==1)]\n",
    "medium_delay=df[(df.delay < 200) & (df.delay > 150) & (df.result ==1)]\n",
    "high_delay=df[(df.delay < 250) & (df.delay > 200) & (df.result ==1)]\n",
    "max_delay=df[(df.delay < 300) & (df.delay > 250) & (df.result ==1)]\n",
    "\n",
    "print(np.mean(low_delay.delay))\n",
    "print(np.mean(medium_delay.delay))"
   ],
   "metadata": {
    "collapsed": false,
    "pycharm": {
     "name": "#%%\n"
    }
   }
  },
  {
   "cell_type": "code",
   "execution_count": 72,
   "outputs": [
    {
     "data": {
      "text/plain": "<Figure size 432x288 with 1 Axes>",
      "image/png": "[encoded data removed]"
     },
     "metadata": {
      "needs_background": "light"
     },
     "output_type": "display_data"
    }
   ],
   "source": [
    "per=np.percentile(low_delay.delay,50)\n",
    "\n",
    "#sns.displot(data=df, x=df[(df.delay < 150) & (df.delay > 0)].delay,bins=[100,110,120,130,140,150], kde=True)\n",
    "#sns.histplot(data=df, x=df[(df.delay < 150) & (df.delay > 0)].delay,bins=[100,110,120,130,140,150],binwidth=8, stat='count',kde=True, hue=per,color='blu')\n",
    "plt.hist(low_delay.delay, alpha=0.5, label='x')\n",
    "plt.hist(low_delay.latency, alpha=0.5, label='y')\n",
    "plt.legend(loc='upper right')\n",
    "plt.show()"
   ],
   "metadata": {
    "collapsed": false,
    "pycharm": {
     "name": "#%%\n"
    }
   }
  },
  {
   "cell_type": "code",
   "execution_count": 65,
   "outputs": [
    {
     "data": {
      "text/plain": "0       1217\n1        970\n2       1090\n3       1091\n4       1763\n        ... \n7034     863\n7035     722\n7036     691\n7037     764\n7038     853\nName: latency, Length: 7039, dtype: int64"
     },
     "execution_count": 65,
     "metadata": {},
     "output_type": "execute_result"
    }
   ],
   "source": [
    "df.latency"
   ],
   "metadata": {
    "collapsed": false,
    "pycharm": {
     "name": "#%%\n"
    }
   }
  },
  {
   "cell_type": "code",
   "execution_count": 69,
   "outputs": [
    {
     "data": {
      "text/plain": "816.738080495356"
     },
     "execution_count": 69,
     "metadata": {},
     "output_type": "execute_result"
    }
   ],
   "source": [
    "np.mean(low_delay.latency)"
   ],
   "metadata": {
    "collapsed": false,
    "pycharm": {
     "name": "#%%\n"
    }
   }
  },
  {
   "cell_type": "code",
   "execution_count": null,
   "outputs": [],
   "source": [],
   "metadata": {
    "collapsed": false,
    "pycharm": {
     "name": "#%%\n"
    }
   }
  }
 ],
 "metadata": {
  "kernelspec": {
   "display_name": "Python 3",
   "language": "python",
   "name": "python3"
  },
  "language_info": {
   "codemirror_mode": {
    "name": "ipython",
    "version": 2
   },
   "file_extension": ".py",
   "mimetype": "text/x-python",
   "name": "python",
   "nbconvert_exporter": "python",
   "pygments_lexer": "ipython2",
   "version": "2.7.6"
  }
 },
 "nbformat": 4,
 "nbformat_minor": 0
}