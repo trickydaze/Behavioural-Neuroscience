{
 "cells": [
  {
   "cell_type": "code",
   "execution_count": 189,
   "metadata": {
    "collapsed": true
   },
   "outputs": [],
   "source": [
    "import os\n",
    "import pandas as pd\n",
    "\n",
    "# Saving all csv files as one\n",
    "file_list = []\n",
    "for file in os.listdir():\n",
    "    if file.endswith('.csv'):\n",
    "        df = pd.read_csv(file,sep=\";\")\n",
    "        df['filename'] = file\n",
    "        file_list.append(df)\n",
    "\n",
    "all_subjects = pd.concat(file_list, ignore_index=True)\n",
    "all_subjects.to_csv(\"all.txt\")\n"
   ]
  },
  {
   "cell_type": "code",
   "execution_count": 190,
   "outputs": [],
   "source": [
    "# Drop redundant rows(the column name rows)\n",
    "all_subjects= all_subjects.drop(labels= [27,542,2547],axis=0)"
   ],
   "metadata": {
    "collapsed": false,
    "pycharm": {
     "name": "#%%\n"
    }
   }
  },
  {
   "cell_type": "code",
   "execution_count": 191,
   "outputs": [],
   "source": [
    "# Data type and value transformation for columns\n",
    "all_subjects['condition']=all_subjects.apply(lambda row: row['condition(1 = change)'] if pd.isnull(row['condition']) else row['condition'], axis=1)\n",
    "all_subjects['result']=all_subjects.apply(lambda row: row['result(1 = success, 2 = missed)'] if pd.isnull(row['result']) else row['result'], axis=1)\n",
    "\n",
    "all_subjects.condition=all_subjects.condition.astype('int')\n",
    "all_subjects.result=all_subjects.result.astype('int')\n",
    "all_subjects.latency=all_subjects.latency.astype('int')\n",
    "all_subjects.delay= all_subjects.delay.astype('int')\n",
    "all_subjects.Trial_number= all_subjects.Trial_number.astype('int')\n",
    "all_subjects.bc_release=all_subjects.bc_release.astype('int')\n",
    "\n",
    "all_subjects_new= all_subjects.drop(columns=['condition(1 = change)','result(1 = success, 2 = missed)'])"
   ],
   "metadata": {
    "collapsed": false,
    "pycharm": {
     "name": "#%%\n"
    }
   }
  },
  {
   "cell_type": "code",
   "execution_count": 192,
   "outputs": [],
   "source": [
    "all_subjects_new.to_csv('all_subjects.csv', index=False)"
   ],
   "metadata": {
    "collapsed": false,
    "pycharm": {
     "name": "#%%\n"
    }
   }
  },
  {
   "cell_type": "code",
   "execution_count": 193,
   "outputs": [
    {
     "name": "stdout",
     "output_type": "stream",
     "text": [
      "<class 'pandas.core.frame.DataFrame'>\n",
      "Int64Index: 7039 entries, 0 to 7041\n",
      "Data columns (total 7 columns):\n",
      " #   Column        Non-Null Count  Dtype \n",
      "---  ------        --------------  ----- \n",
      " 0   Trial_number  7039 non-null   int64 \n",
      " 1   bc_release    7039 non-null   int64 \n",
      " 2   condition     7039 non-null   int64 \n",
      " 3   delay         7039 non-null   int64 \n",
      " 4   latency       7039 non-null   int64 \n",
      " 5   result        7039 non-null   int64 \n",
      " 6   filename      7039 non-null   object\n",
      "dtypes: int64(6), object(1)\n",
      "memory usage: 439.9+ KB\n"
     ]
    }
   ],
   "source": [
    "all_subjects_new.info()\n"
   ],
   "metadata": {
    "collapsed": false,
    "pycharm": {
     "name": "#%%\n"
    }
   }
  }
 ],
 "metadata": {
  "kernelspec": {
   "display_name": "Python 3",
   "language": "python",
   "name": "python3"
  },
  "language_info": {
   "codemirror_mode": {
    "name": "ipython",
    "version": 2
   },
   "file_extension": ".py",
   "mimetype": "text/x-python",
   "name": "python",
   "nbconvert_exporter": "python",
   "pygments_lexer": "ipython2",
   "version": "2.7.6"
  }
 },
 "nbformat": 4,
 "nbformat_minor": 0
}