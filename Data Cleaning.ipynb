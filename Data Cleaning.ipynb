{
 "cells": [
  {
   "cell_type": "code",
   "execution_count": 18,
   "metadata": {
    "collapsed": true
   },
   "outputs": [],
   "source": [
    "import os\n",
    "import pandas as pd\n",
    "\n",
    "# Saving all csv files as one\n",
    "# IMPORTANT: THE FILES WERE EXTRACTED FROM DATA FOLDER TO CD BEFORE THE MERGE.\n",
    "file_list = []\n",
    "for file in os.listdir():\n",
    "    if file.endswith('.csv'):\n",
    "        df = pd.read_csv(file,sep=\";\")\n",
    "        df['filename'] = file\n",
    "        file_list.append(df)\n",
    "\n",
    "all_subjects = pd.concat(file_list, ignore_index=True)\n",
    "all_subjects.to_csv(\"all.txt\")\n"
   ]
  },
  {
   "cell_type": "code",
   "execution_count": 19,
   "outputs": [],
   "source": [
    "\n",
    "# Drop redundant rows(the column name rows)\n",
    "all_subjects=all_subjects.drop(labels=[3514,8519],axis=0)\n",
    "\n",
    "# Data type and value transformation for columns\n",
    "all_subjects.condition=all_subjects.condition.astype('int')\n",
    "all_subjects.result=all_subjects.result.astype('int')\n",
    "all_subjects.latency=all_subjects.latency.astype('int')\n",
    "all_subjects.delay= all_subjects.delay.astype('int')\n",
    "all_subjects.Trial_number= all_subjects.Trial_number.astype('int')\n",
    "all_subjects.bc_release=all_subjects.bc_release.astype('int')\n"
   ],
   "metadata": {
    "collapsed": false,
    "pycharm": {
     "name": "#%%\n"
    }
   }
  },
  {
   "cell_type": "code",
   "execution_count": 24,
   "outputs": [],
   "source": [
    "# Saving the cleaned file as CSV\n",
    "all_subjects.to_csv('all_subjects.csv', index=False)\n",
    "\n",
    "\n",
    "\n",
    "\n"
   ],
   "metadata": {
    "collapsed": false,
    "pycharm": {
     "name": "#%%\n"
    }
   }
  }
 ],
 "metadata": {
  "kernelspec": {
   "display_name": "Python 3",
   "language": "python",
   "name": "python3"
  },
  "language_info": {
   "codemirror_mode": {
    "name": "ipython",
    "version": 2
   },
   "file_extension": ".py",
   "mimetype": "text/x-python",
   "name": "python",
   "nbconvert_exporter": "python",
   "pygments_lexer": "ipython2",
   "version": "2.7.6"
  }
 },
 "nbformat": 4,
 "nbformat_minor": 0
}