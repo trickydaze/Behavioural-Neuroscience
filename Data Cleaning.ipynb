{
 "cells": [
  {
   "cell_type": "code",
   "execution_count": 137,
   "metadata": {
    "collapsed": true
   },
   "outputs": [],
   "source": [
    "import os\n",
    "import pandas as pd\n",
    "\n",
    "# Saving all csv files as one\n",
    "file_list = []\n",
    "for file in os.listdir():\n",
    "    if file.endswith('.csv'):\n",
    "        df = pd.read_csv(file,sep=\";\")\n",
    "        df['filename'] = file\n",
    "        file_list.append(df)\n",
    "\n",
    "all_subjects = pd.concat(file_list, ignore_index=True)\n",
    "all_subjects.to_csv(\"all.txt\")\n"
   ]
  },
  {
   "cell_type": "code",
   "execution_count": 139,
   "outputs": [
    {
     "data": {
      "text/plain": "     Trial_number bc_release condition delay latency result        filename  \\\n0               1       1029         1   172    1217      1  subject_19.csv   \n1               2        827         0   237     970      1  subject_19.csv   \n2               3        980         0   280    1090      1  subject_19.csv   \n3               4        955         1   288    1091      1  subject_19.csv   \n4               5        526         0   114    1763      0  subject_19.csv   \n...           ...        ...       ...   ...     ...    ...             ...   \n6543          496        741       NaN   124     863    NaN   subject_1.csv   \n6544          497        594       NaN   141     722    NaN   subject_1.csv   \n6545          498        574       NaN   173     691    NaN   subject_1.csv   \n6546          499        638       NaN   122     764    NaN   subject_1.csv   \n6547          500        733       NaN   298     853    NaN   subject_1.csv   \n\n      condition(1 = change)  result(1 = success, 2 = missed)  \n0                       NaN                              NaN  \n1                       NaN                              NaN  \n2                       NaN                              NaN  \n3                       NaN                              NaN  \n4                       NaN                              NaN  \n...                     ...                              ...  \n6543                    1.0                              1.0  \n6544                    1.0                              1.0  \n6545                    1.0                              1.0  \n6546                    0.0                              1.0  \n6547                    1.0                              1.0  \n\n[6545 rows x 9 columns]",
      "text/html": "<div>\n<style scoped>\n    .dataframe tbody tr th:only-of-type {\n        vertical-align: middle;\n    }\n\n    .dataframe tbody tr th {\n        vertical-align: top;\n    }\n\n    .dataframe thead th {\n        text-align: right;\n    }\n</style>\n<table border=\"1\" class=\"dataframe\">\n  <thead>\n    <tr style=\"text-align: right;\">\n      <th></th>\n      <th>Trial_number</th>\n      <th>bc_release</th>\n      <th>condition</th>\n      <th>delay</th>\n      <th>latency</th>\n      <th>result</th>\n      <th>filename</th>\n      <th>condition(1 = change)</th>\n      <th>result(1 = success, 2 = missed)</th>\n    </tr>\n  </thead>\n  <tbody>\n    <tr>\n      <th>0</th>\n      <td>1</td>\n      <td>1029</td>\n      <td>1</td>\n      <td>172</td>\n      <td>1217</td>\n      <td>1</td>\n      <td>subject_19.csv</td>\n      <td>NaN</td>\n      <td>NaN</td>\n    </tr>\n    <tr>\n      <th>1</th>\n      <td>2</td>\n      <td>827</td>\n      <td>0</td>\n      <td>237</td>\n      <td>970</td>\n      <td>1</td>\n      <td>subject_19.csv</td>\n      <td>NaN</td>\n      <td>NaN</td>\n    </tr>\n    <tr>\n      <th>2</th>\n      <td>3</td>\n      <td>980</td>\n      <td>0</td>\n      <td>280</td>\n      <td>1090</td>\n      <td>1</td>\n      <td>subject_19.csv</td>\n      <td>NaN</td>\n      <td>NaN</td>\n    </tr>\n    <tr>\n      <th>3</th>\n      <td>4</td>\n      <td>955</td>\n      <td>1</td>\n      <td>288</td>\n      <td>1091</td>\n      <td>1</td>\n      <td>subject_19.csv</td>\n      <td>NaN</td>\n      <td>NaN</td>\n    </tr>\n    <tr>\n      <th>4</th>\n      <td>5</td>\n      <td>526</td>\n      <td>0</td>\n      <td>114</td>\n      <td>1763</td>\n      <td>0</td>\n      <td>subject_19.csv</td>\n      <td>NaN</td>\n      <td>NaN</td>\n    </tr>\n    <tr>\n      <th>...</th>\n      <td>...</td>\n      <td>...</td>\n      <td>...</td>\n      <td>...</td>\n      <td>...</td>\n      <td>...</td>\n      <td>...</td>\n      <td>...</td>\n      <td>...</td>\n    </tr>\n    <tr>\n      <th>6543</th>\n      <td>496</td>\n      <td>741</td>\n      <td>NaN</td>\n      <td>124</td>\n      <td>863</td>\n      <td>NaN</td>\n      <td>subject_1.csv</td>\n      <td>1.0</td>\n      <td>1.0</td>\n    </tr>\n    <tr>\n      <th>6544</th>\n      <td>497</td>\n      <td>594</td>\n      <td>NaN</td>\n      <td>141</td>\n      <td>722</td>\n      <td>NaN</td>\n      <td>subject_1.csv</td>\n      <td>1.0</td>\n      <td>1.0</td>\n    </tr>\n    <tr>\n      <th>6545</th>\n      <td>498</td>\n      <td>574</td>\n      <td>NaN</td>\n      <td>173</td>\n      <td>691</td>\n      <td>NaN</td>\n      <td>subject_1.csv</td>\n      <td>1.0</td>\n      <td>1.0</td>\n    </tr>\n    <tr>\n      <th>6546</th>\n      <td>499</td>\n      <td>638</td>\n      <td>NaN</td>\n      <td>122</td>\n      <td>764</td>\n      <td>NaN</td>\n      <td>subject_1.csv</td>\n      <td>0.0</td>\n      <td>1.0</td>\n    </tr>\n    <tr>\n      <th>6547</th>\n      <td>500</td>\n      <td>733</td>\n      <td>NaN</td>\n      <td>298</td>\n      <td>853</td>\n      <td>NaN</td>\n      <td>subject_1.csv</td>\n      <td>1.0</td>\n      <td>1.0</td>\n    </tr>\n  </tbody>\n</table>\n<p>6545 rows × 9 columns</p>\n</div>"
     },
     "execution_count": 139,
     "metadata": {},
     "output_type": "execute_result"
    }
   ],
   "source": [
    "# Drop redundant rows(the column name rows)\n",
    "all_subjects= all_subjects.drop(labels= [27,542,2547],axis=0)"
   ],
   "metadata": {
    "collapsed": false,
    "pycharm": {
     "name": "#%%\n"
    }
   }
  },
  {
   "cell_type": "code",
   "execution_count": 144,
   "outputs": [],
   "source": [
    "# Data type and value transformation for columns\n",
    "all_subjects['condition']=all_subjects.apply(lambda row: row['condition(1 = change)'] if pd.isnull(row['condition']) else row['condition'], axis=1)\n",
    "all_subjects['result']=all_subjects.apply(lambda row: row['result(1 = success, 2 = missed)'] if pd.isnull(row['result']) else row['result'], axis=1)\n",
    "\n",
    "all_subjects.condition=all_subjects.condition.astype('int')\n",
    "all_subjects.result=all_subjects.result.astype('int')\n",
    "all_subjects.latency=all_subjects.latency.astype('int')\n",
    "all_subjects.delay= all_subjects.delay.astype('int')\n",
    "all_subjects.Trial_number= all_subjects.Trial_number.astype('int')\n",
    "all_subjects.bc_release=all_subjects.bc_release.astype('int')\n",
    "\n",
    "all_subjects_new= all_subjects.drop(columns=['condition(1 = change)','result(1 = success, 2 = missed)'])"
   ],
   "metadata": {
    "collapsed": false,
    "pycharm": {
     "name": "#%%\n"
    }
   }
  },
  {
   "cell_type": "code",
   "execution_count": 164,
   "outputs": [],
   "source": [
    "#all_subjects_new.to_csv('all_subjects.csv', index=False)"
   ],
   "metadata": {
    "collapsed": false,
    "pycharm": {
     "name": "#%%\n"
    }
   }
  },
  {
   "cell_type": "code",
   "execution_count": 175,
   "outputs": [
    {
     "data": {
      "text/plain": "      Trial_number  bc_release  condition  delay  latency  result  \\\n0                1        1029          1    172     1217       1   \n1                2         827          0    237      970       1   \n2                3         980          0    280     1090       1   \n3                4         955          1    288     1091       1   \n4                5         526          0    114     1763       0   \n...            ...         ...        ...    ...      ...     ...   \n6540           496         741          1    124      863       1   \n6541           497         594          1    141      722       1   \n6542           498         574          1    173      691       1   \n6543           499         638          0    122      764       1   \n6544           500         733          1    298      853       1   \n\n            filename  \n0     subject_19.csv  \n1     subject_19.csv  \n2     subject_19.csv  \n3     subject_19.csv  \n4     subject_19.csv  \n...              ...  \n6540   subject_1.csv  \n6541   subject_1.csv  \n6542   subject_1.csv  \n6543   subject_1.csv  \n6544   subject_1.csv  \n\n[6545 rows x 7 columns]",
      "text/html": "<div>\n<style scoped>\n    .dataframe tbody tr th:only-of-type {\n        vertical-align: middle;\n    }\n\n    .dataframe tbody tr th {\n        vertical-align: top;\n    }\n\n    .dataframe thead th {\n        text-align: right;\n    }\n</style>\n<table border=\"1\" class=\"dataframe\">\n  <thead>\n    <tr style=\"text-align: right;\">\n      <th></th>\n      <th>Trial_number</th>\n      <th>bc_release</th>\n      <th>condition</th>\n      <th>delay</th>\n      <th>latency</th>\n      <th>result</th>\n      <th>filename</th>\n    </tr>\n  </thead>\n  <tbody>\n    <tr>\n      <th>0</th>\n      <td>1</td>\n      <td>1029</td>\n      <td>1</td>\n      <td>172</td>\n      <td>1217</td>\n      <td>1</td>\n      <td>subject_19.csv</td>\n    </tr>\n    <tr>\n      <th>1</th>\n      <td>2</td>\n      <td>827</td>\n      <td>0</td>\n      <td>237</td>\n      <td>970</td>\n      <td>1</td>\n      <td>subject_19.csv</td>\n    </tr>\n    <tr>\n      <th>2</th>\n      <td>3</td>\n      <td>980</td>\n      <td>0</td>\n      <td>280</td>\n      <td>1090</td>\n      <td>1</td>\n      <td>subject_19.csv</td>\n    </tr>\n    <tr>\n      <th>3</th>\n      <td>4</td>\n      <td>955</td>\n      <td>1</td>\n      <td>288</td>\n      <td>1091</td>\n      <td>1</td>\n      <td>subject_19.csv</td>\n    </tr>\n    <tr>\n      <th>4</th>\n      <td>5</td>\n      <td>526</td>\n      <td>0</td>\n      <td>114</td>\n      <td>1763</td>\n      <td>0</td>\n      <td>subject_19.csv</td>\n    </tr>\n    <tr>\n      <th>...</th>\n      <td>...</td>\n      <td>...</td>\n      <td>...</td>\n      <td>...</td>\n      <td>...</td>\n      <td>...</td>\n      <td>...</td>\n    </tr>\n    <tr>\n      <th>6540</th>\n      <td>496</td>\n      <td>741</td>\n      <td>1</td>\n      <td>124</td>\n      <td>863</td>\n      <td>1</td>\n      <td>subject_1.csv</td>\n    </tr>\n    <tr>\n      <th>6541</th>\n      <td>497</td>\n      <td>594</td>\n      <td>1</td>\n      <td>141</td>\n      <td>722</td>\n      <td>1</td>\n      <td>subject_1.csv</td>\n    </tr>\n    <tr>\n      <th>6542</th>\n      <td>498</td>\n      <td>574</td>\n      <td>1</td>\n      <td>173</td>\n      <td>691</td>\n      <td>1</td>\n      <td>subject_1.csv</td>\n    </tr>\n    <tr>\n      <th>6543</th>\n      <td>499</td>\n      <td>638</td>\n      <td>0</td>\n      <td>122</td>\n      <td>764</td>\n      <td>1</td>\n      <td>subject_1.csv</td>\n    </tr>\n    <tr>\n      <th>6544</th>\n      <td>500</td>\n      <td>733</td>\n      <td>1</td>\n      <td>298</td>\n      <td>853</td>\n      <td>1</td>\n      <td>subject_1.csv</td>\n    </tr>\n  </tbody>\n</table>\n<p>6545 rows × 7 columns</p>\n</div>"
     },
     "execution_count": 175,
     "metadata": {},
     "output_type": "execute_result"
    }
   ],
   "source": [],
   "metadata": {
    "collapsed": false,
    "pycharm": {
     "name": "#%%\n"
    }
   }
  }
 ],
 "metadata": {
  "kernelspec": {
   "display_name": "Python 3",
   "language": "python",
   "name": "python3"
  },
  "language_info": {
   "codemirror_mode": {
    "name": "ipython",
    "version": 2
   },
   "file_extension": ".py",
   "mimetype": "text/x-python",
   "name": "python",
   "nbconvert_exporter": "python",
   "pygments_lexer": "ipython2",
   "version": "2.7.6"
  }
 },
 "nbformat": 4,
 "nbformat_minor": 0
}